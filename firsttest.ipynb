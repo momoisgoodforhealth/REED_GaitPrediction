{
 "cells": [
  {
   "cell_type": "code",
   "execution_count": 29,
   "metadata": {},
   "outputs": [
    {
     "name": "stdout",
     "output_type": "stream",
     "text": [
      "0.160804\n"
     ]
    }
   ],
   "source": [
    "# multivariate output 1d cnn example\n",
    "from numpy import array\n",
    "from numpy import hstack\n",
    "from keras.models import Model\n",
    "from keras.layers import Input\n",
    "from keras.layers import Dense\n",
    "from keras.layers import Flatten\n",
    "from sklearn.model_selection import train_test_split\n",
    "from keras.layers.convolutional import Conv1D\n",
    "from keras.layers.convolutional import MaxPooling1D\n",
    "\n",
    "from numpy import loadtxt\n",
    "lines = loadtxt(\"trial0_revised11.txt\", delimiter=\",\", unpack=False, usecols=(4,7,10,13,16,19,22,25,28,31))\n",
    "print(lines[0][0])\n"
   ]
  },
  {
   "cell_type": "code",
   "execution_count": 30,
   "metadata": {},
   "outputs": [
    {
     "data": {
      "text/plain": [
       "24003"
      ]
     },
     "execution_count": 30,
     "metadata": {},
     "output_type": "execute_result"
    }
   ],
   "source": [
    "len(lines)"
   ]
  },
  {
   "cell_type": "code",
   "execution_count": 31,
   "metadata": {},
   "outputs": [],
   "source": [
    "# split a multivariate sequence into samples\n",
    "def split_sequences(sequences, n_steps):\n",
    "\tX, y = list(), list()\n",
    "\tprint(len(sequences))\n",
    "\tfor i in range(len(sequences)):\n",
    "\t\tseq_x, seq_y = sequences[i, :7], sequences[i, 7:]\n",
    "\t\tX.append(seq_x)\n",
    "\t\ty.append(seq_y)\n",
    "\treturn array(X), array(y)\n"
   ]
  },
  {
   "cell_type": "code",
   "execution_count": 32,
   "metadata": {},
   "outputs": [],
   "source": [
    "\n",
    "# horizontally stack columns\n",
    "#dataset = hstack((in_seq1, in_seq2, out_seq))\n",
    "#print(dataset)\n",
    "# choose a number of time steps\n",
    "n_steps = 3\n"
   ]
  },
  {
   "cell_type": "code",
   "execution_count": 33,
   "metadata": {},
   "outputs": [
    {
     "name": "stdout",
     "output_type": "stream",
     "text": [
      "24003\n",
      "(24003, 7)\n",
      "(24003, 3)\n"
     ]
    }
   ],
   "source": [
    "# convert into input/output\n",
    "X, y = split_sequences(lines, n_steps)\n",
    "#X=X[None,:,:]\n",
    "print(X.shape)\n",
    "print(y.shape)"
   ]
  },
  {
   "cell_type": "code",
   "execution_count": 34,
   "metadata": {},
   "outputs": [
    {
     "name": "stdout",
     "output_type": "stream",
     "text": [
      "shape=7\n"
     ]
    }
   ],
   "source": [
    "# the dataset knows the number of features, e.g. 2\n",
    "n_features = X.shape[-1]\n",
    "print('shape='+str(n_features))"
   ]
  },
  {
   "cell_type": "code",
   "execution_count": 35,
   "metadata": {},
   "outputs": [],
   "source": [
    "visible = Input(shape=(7, 1))\n",
    "cnn = Conv1D(filters=64, kernel_size=2, activation='relu')(visible)\n",
    "cnn = MaxPooling1D(pool_size=2)(cnn)\n",
    "cnn = Flatten()(cnn)\n",
    "cnn = Dense(50, activation='relu')(cnn)\n",
    "# define output 1\n",
    "output1 = Dense(1)(cnn)\n",
    "# define output 2\n",
    "output2 = Dense(1)(cnn)\n",
    "# define output 3\n",
    "output3 = Dense(1)(cnn)\n"
   ]
  },
  {
   "cell_type": "code",
   "execution_count": 36,
   "metadata": {},
   "outputs": [
    {
     "name": "stdout",
     "output_type": "stream",
     "text": [
      "Model: \"model_2\"\n",
      "__________________________________________________________________________________________________\n",
      " Layer (type)                   Output Shape         Param #     Connected to                     \n",
      "==================================================================================================\n",
      " input_3 (InputLayer)           [(None, 7, 1)]       0           []                               \n",
      "                                                                                                  \n",
      " conv1d_2 (Conv1D)              (None, 6, 64)        192         ['input_3[0][0]']                \n",
      "                                                                                                  \n",
      " max_pooling1d_2 (MaxPooling1D)  (None, 3, 64)       0           ['conv1d_2[0][0]']               \n",
      "                                                                                                  \n",
      " flatten_2 (Flatten)            (None, 192)          0           ['max_pooling1d_2[0][0]']        \n",
      "                                                                                                  \n",
      " dense_8 (Dense)                (None, 50)           9650        ['flatten_2[0][0]']              \n",
      "                                                                                                  \n",
      " dense_9 (Dense)                (None, 1)            51          ['dense_8[0][0]']                \n",
      "                                                                                                  \n",
      " dense_10 (Dense)               (None, 1)            51          ['dense_8[0][0]']                \n",
      "                                                                                                  \n",
      " dense_11 (Dense)               (None, 1)            51          ['dense_8[0][0]']                \n",
      "                                                                                                  \n",
      "==================================================================================================\n",
      "Total params: 9,995\n",
      "Trainable params: 9,995\n",
      "Non-trainable params: 0\n",
      "__________________________________________________________________________________________________\n",
      "None\n"
     ]
    }
   ],
   "source": [
    "# tie together\n",
    "model = Model(inputs=visible, outputs=[output1, output2, output3])\n",
    "model.compile(optimizer='adam', loss='mse')\n",
    "print(model.summary())\n"
   ]
  },
  {
   "cell_type": "code",
   "execution_count": 37,
   "metadata": {},
   "outputs": [
    {
     "name": "stdout",
     "output_type": "stream",
     "text": [
      "(24003, 3)\n",
      "(24003, 7)\n",
      "(24003, 1)\n"
     ]
    }
   ],
   "source": [
    "\n",
    "print(y.shape)\n",
    "y1 = y[:, 0].reshape((y.shape[0], 1))\n",
    "y2 = y[:, 1].reshape((y.shape[0], 1))\n",
    "y3 = y[:, 2].reshape((y.shape[0], 1))\n",
    "print(X.shape)\n",
    "print(y1.shape)"
   ]
  },
  {
   "cell_type": "code",
   "execution_count": 43,
   "metadata": {},
   "outputs": [
    {
     "name": "stdout",
     "output_type": "stream",
     "text": [
      "fitting\n",
      "(18002, 3)\n",
      "Epoch 1/20\n",
      "282/282 [==============================] - 1s 3ms/step - loss: 1.2173e-04 - dense_9_loss: 3.5435e-05 - dense_10_loss: 3.8262e-05 - dense_11_loss: 4.8030e-05\n",
      "Epoch 2/20\n",
      "282/282 [==============================] - 1s 3ms/step - loss: 1.2218e-04 - dense_9_loss: 3.5006e-05 - dense_10_loss: 3.9027e-05 - dense_11_loss: 4.8144e-05\n",
      "Epoch 3/20\n",
      "282/282 [==============================] - 1s 4ms/step - loss: 1.2415e-04 - dense_9_loss: 3.6971e-05 - dense_10_loss: 3.9114e-05 - dense_11_loss: 4.8067e-05\n",
      "Epoch 4/20\n",
      "282/282 [==============================] - 1s 3ms/step - loss: 1.2483e-04 - dense_9_loss: 3.7030e-05 - dense_10_loss: 3.9263e-05 - dense_11_loss: 4.8532e-05\n",
      "Epoch 5/20\n",
      "282/282 [==============================] - 1s 4ms/step - loss: 1.2508e-04 - dense_9_loss: 3.7062e-05 - dense_10_loss: 3.9528e-05 - dense_11_loss: 4.8486e-05\n",
      "Epoch 6/20\n",
      "282/282 [==============================] - 1s 3ms/step - loss: 1.2523e-04 - dense_9_loss: 3.7140e-05 - dense_10_loss: 3.9726e-05 - dense_11_loss: 4.8365e-05\n",
      "Epoch 7/20\n",
      "282/282 [==============================] - 1s 3ms/step - loss: 1.2560e-04 - dense_9_loss: 3.6674e-05 - dense_10_loss: 3.9780e-05 - dense_11_loss: 4.9147e-05\n",
      "Epoch 8/20\n",
      "282/282 [==============================] - 1s 2ms/step - loss: 1.2436e-04 - dense_9_loss: 3.6177e-05 - dense_10_loss: 3.9108e-05 - dense_11_loss: 4.9079e-05\n",
      "Epoch 9/20\n",
      "282/282 [==============================] - 1s 3ms/step - loss: 1.2470e-04 - dense_9_loss: 3.6910e-05 - dense_10_loss: 3.9331e-05 - dense_11_loss: 4.8459e-05\n",
      "Epoch 10/20\n",
      "282/282 [==============================] - 1s 3ms/step - loss: 1.2524e-04 - dense_9_loss: 3.5765e-05 - dense_10_loss: 4.0368e-05 - dense_11_loss: 4.9104e-05\n",
      "Epoch 11/20\n",
      "282/282 [==============================] - 1s 3ms/step - loss: 1.2685e-04 - dense_9_loss: 3.7551e-05 - dense_10_loss: 4.0155e-05 - dense_11_loss: 4.9143e-05\n",
      "Epoch 12/20\n",
      "282/282 [==============================] - 1s 3ms/step - loss: 1.2485e-04 - dense_9_loss: 3.6367e-05 - dense_10_loss: 3.9773e-05 - dense_11_loss: 4.8710e-05\n",
      "Epoch 13/20\n",
      "282/282 [==============================] - 1s 4ms/step - loss: 1.2574e-04 - dense_9_loss: 3.7099e-05 - dense_10_loss: 4.0219e-05 - dense_11_loss: 4.8427e-05\n",
      "Epoch 14/20\n",
      "282/282 [==============================] - 1s 4ms/step - loss: 1.2581e-04 - dense_9_loss: 3.6352e-05 - dense_10_loss: 4.0300e-05 - dense_11_loss: 4.9156e-05\n",
      "Epoch 15/20\n",
      "282/282 [==============================] - 1s 3ms/step - loss: 1.2480e-04 - dense_9_loss: 3.6059e-05 - dense_10_loss: 3.9657e-05 - dense_11_loss: 4.9089e-05\n",
      "Epoch 16/20\n",
      "282/282 [==============================] - 1s 3ms/step - loss: 1.2775e-04 - dense_9_loss: 3.8095e-05 - dense_10_loss: 4.0554e-05 - dense_11_loss: 4.9105e-05\n",
      "Epoch 17/20\n",
      "282/282 [==============================] - 1s 4ms/step - loss: 1.2625e-04 - dense_9_loss: 3.6910e-05 - dense_10_loss: 3.9869e-05 - dense_11_loss: 4.9472e-05\n",
      "Epoch 18/20\n",
      "282/282 [==============================] - 1s 4ms/step - loss: 1.2631e-04 - dense_9_loss: 3.6784e-05 - dense_10_loss: 4.0375e-05 - dense_11_loss: 4.9146e-05\n",
      "Epoch 19/20\n",
      "282/282 [==============================] - 1s 3ms/step - loss: 1.2457e-04 - dense_9_loss: 3.6372e-05 - dense_10_loss: 3.9511e-05 - dense_11_loss: 4.8683e-05\n",
      "Epoch 20/20\n",
      "282/282 [==============================] - 1s 4ms/step - loss: 1.2442e-04 - dense_9_loss: 3.6119e-05 - dense_10_loss: 3.9524e-05 - dense_11_loss: 4.8780e-05\n"
     ]
    },
    {
     "data": {
      "text/plain": [
       "<keras.callbacks.History at 0x26e8f1b4a60>"
      ]
     },
     "execution_count": 43,
     "metadata": {},
     "output_type": "execute_result"
    }
   ],
   "source": [
    "X_train, X_test, y_train, y_test = train_test_split(X, y, random_state=0, train_size = .75) # [y1,y2,y3]\n",
    "# fit model\n",
    "print('fitting')\n",
    "print(y_train.shape)\n",
    "ytr1 = y_train[:, 0].reshape((y_train.shape[0], 1))\n",
    "ytr2 = y_train[:, 1].reshape((y_train.shape[0], 1))\n",
    "ytr3 = y_train[:, 2].reshape((y_train.shape[0], 1))\n",
    "yte1 = y_test[:, 0].reshape((y_test.shape[0], 1))\n",
    "yte2 = y_test[:, 1].reshape((y_test.shape[0], 1))\n",
    "yte3 = y_test[:, 2].reshape((y_test.shape[0], 1))\n",
    "\n",
    "model.fit(X_train, [ytr1,ytr2,ytr3], epochs=20,batch_size=64)"
   ]
  },
  {
   "cell_type": "code",
   "execution_count": 44,
   "metadata": {},
   "outputs": [
    {
     "name": "stdout",
     "output_type": "stream",
     "text": [
      "test loss, test acc: [0.0001368911616737023, 4.616444857674651e-05, 4.008636824437417e-05, 5.0640290282899514e-05]\n"
     ]
    }
   ],
   "source": [
    "\n",
    "score = model.evaluate(X_test, [yte1,yte2,yte3], verbose = 0) \n",
    "\n",
    "print(\"test loss, test acc:\", score)"
   ]
  },
  {
   "cell_type": "code",
   "execution_count": 40,
   "metadata": {},
   "outputs": [],
   "source": [
    "lines2 = loadtxt(\"trial3_revised11.txt\", delimiter=\",\", unpack=False, usecols=(4,7,10,13,16,19,22,25,28,31))"
   ]
  },
  {
   "cell_type": "code",
   "execution_count": 41,
   "metadata": {},
   "outputs": [
    {
     "name": "stdout",
     "output_type": "stream",
     "text": [
      "(1, 7)\n",
      "[array([[-0.3015609]], dtype=float32), array([[-0.228706]], dtype=float32), array([[-0.2573509]], dtype=float32)]\n",
      "[ 0.151382 -0.02439  -0.064336]\n"
     ]
    }
   ],
   "source": [
    "seq_x2, seq_y2 = lines2[100, :7], lines2[100, 7:]\n",
    "x2=list()\n",
    "x2.append(seq_x2)\n",
    "x2=array(x2)\n",
    "print(x2.shape)\n",
    "\n",
    "yhat = model.predict(x2, verbose=0)\n",
    "print(yhat)\n",
    "print(seq_y2)"
   ]
  }
 ],
 "metadata": {
  "kernelspec": {
   "display_name": "Python 3",
   "language": "python",
   "name": "python3"
  },
  "language_info": {
   "codemirror_mode": {
    "name": "ipython",
    "version": 3
   },
   "file_extension": ".py",
   "mimetype": "text/x-python",
   "name": "python",
   "nbconvert_exporter": "python",
   "pygments_lexer": "ipython3",
   "version": "3.9.0"
  }
 },
 "nbformat": 4,
 "nbformat_minor": 2
}
