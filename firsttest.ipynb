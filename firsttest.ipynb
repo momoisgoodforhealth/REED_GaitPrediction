{
 "cells": [
  {
   "cell_type": "code",
   "execution_count": 40,
   "metadata": {},
   "outputs": [
    {
     "name": "stdout",
     "output_type": "stream",
     "text": [
      "0.160804\n"
     ]
    }
   ],
   "source": [
    "# multivariate output 1d cnn example\n",
    "from numpy import array\n",
    "from numpy import hstack\n",
    "from keras.models import Model\n",
    "from keras.layers import Input\n",
    "from keras.layers import Dense\n",
    "from keras.layers import Flatten\n",
    "from keras.layers.convolutional import Conv1D\n",
    "from keras.layers.convolutional import MaxPooling1D\n",
    "\n",
    "from numpy import loadtxt\n",
    "lines = loadtxt(\"trial0_revised11.txt\", delimiter=\",\", unpack=False, usecols=(4,7,10,13,16,19,22,25,28,31))\n",
    "print(lines[0][0])\n"
   ]
  },
  {
   "cell_type": "code",
   "execution_count": 41,
   "metadata": {},
   "outputs": [
    {
     "data": {
      "text/plain": [
       "24003"
      ]
     },
     "execution_count": 41,
     "metadata": {},
     "output_type": "execute_result"
    }
   ],
   "source": [
    "len(lines)"
   ]
  },
  {
   "cell_type": "code",
   "execution_count": 42,
   "metadata": {},
   "outputs": [],
   "source": [
    "# split a multivariate sequence into samples\n",
    "def split_sequences(sequences, n_steps):\n",
    "\tX, y = list(), list()\n",
    "\tprint(len(sequences))\n",
    "\tfor i in range(len(sequences)):\n",
    "\t\tseq_x, seq_y = sequences[i, :7], sequences[i, 7:]\n",
    "\t\tX.append(seq_x)\n",
    "\t\ty.append(seq_y)\n",
    "\treturn array(X), array(y)\n"
   ]
  },
  {
   "cell_type": "code",
   "execution_count": 43,
   "metadata": {},
   "outputs": [],
   "source": [
    "\n",
    "# horizontally stack columns\n",
    "#dataset = hstack((in_seq1, in_seq2, out_seq))\n",
    "#print(dataset)\n",
    "# choose a number of time steps\n",
    "n_steps = 3\n"
   ]
  },
  {
   "cell_type": "code",
   "execution_count": 44,
   "metadata": {},
   "outputs": [
    {
     "name": "stdout",
     "output_type": "stream",
     "text": [
      "24003\n",
      "(24003, 7)\n",
      "(24003, 3)\n"
     ]
    }
   ],
   "source": [
    "# convert into input/output\n",
    "X, y = split_sequences(lines, n_steps)\n",
    "#X=X[None,:,:]\n",
    "print(X.shape)\n",
    "print(y.shape)"
   ]
  },
  {
   "cell_type": "code",
   "execution_count": 45,
   "metadata": {},
   "outputs": [
    {
     "name": "stdout",
     "output_type": "stream",
     "text": [
      "shape=7\n"
     ]
    }
   ],
   "source": [
    "# the dataset knows the number of features, e.g. 2\n",
    "n_features = X.shape[-1]\n",
    "print('shape='+str(n_features))"
   ]
  },
  {
   "cell_type": "code",
   "execution_count": 46,
   "metadata": {},
   "outputs": [],
   "source": [
    "visible = Input(shape=(7, 1))\n",
    "cnn = Conv1D(filters=64, kernel_size=2, activation='relu')(visible)\n",
    "cnn = MaxPooling1D(pool_size=2)(cnn)\n",
    "cnn = Flatten()(cnn)\n",
    "cnn = Dense(50, activation='relu')(cnn)\n",
    "# define output 1\n",
    "output1 = Dense(1)(cnn)\n",
    "# define output 2\n",
    "output2 = Dense(1)(cnn)\n",
    "# define output 3\n",
    "output3 = Dense(1)(cnn)\n"
   ]
  },
  {
   "cell_type": "code",
   "execution_count": 47,
   "metadata": {},
   "outputs": [
    {
     "name": "stdout",
     "output_type": "stream",
     "text": [
      "Model: \"model_4\"\n",
      "__________________________________________________________________________________________________\n",
      " Layer (type)                   Output Shape         Param #     Connected to                     \n",
      "==================================================================================================\n",
      " input_11 (InputLayer)          [(None, 7, 1)]       0           []                               \n",
      "                                                                                                  \n",
      " conv1d_10 (Conv1D)             (None, 6, 64)        192         ['input_11[0][0]']               \n",
      "                                                                                                  \n",
      " max_pooling1d_7 (MaxPooling1D)  (None, 3, 64)       0           ['conv1d_10[0][0]']              \n",
      "                                                                                                  \n",
      " flatten_7 (Flatten)            (None, 192)          0           ['max_pooling1d_7[0][0]']        \n",
      "                                                                                                  \n",
      " dense_22 (Dense)               (None, 50)           9650        ['flatten_7[0][0]']              \n",
      "                                                                                                  \n",
      " dense_23 (Dense)               (None, 1)            51          ['dense_22[0][0]']               \n",
      "                                                                                                  \n",
      " dense_24 (Dense)               (None, 1)            51          ['dense_22[0][0]']               \n",
      "                                                                                                  \n",
      " dense_25 (Dense)               (None, 1)            51          ['dense_22[0][0]']               \n",
      "                                                                                                  \n",
      "==================================================================================================\n",
      "Total params: 9,995\n",
      "Trainable params: 9,995\n",
      "Non-trainable params: 0\n",
      "__________________________________________________________________________________________________\n",
      "None\n"
     ]
    }
   ],
   "source": [
    "# tie together\n",
    "model = Model(inputs=visible, outputs=[output1, output2, output3])\n",
    "model.compile(optimizer='adam', loss='mse')\n",
    "print(model.summary())\n"
   ]
  },
  {
   "cell_type": "code",
   "execution_count": 48,
   "metadata": {},
   "outputs": [
    {
     "name": "stdout",
     "output_type": "stream",
     "text": [
      "(24003, 7)\n"
     ]
    }
   ],
   "source": [
    "\n",
    "y1 = y[:, 0].reshape((y.shape[0], 1))\n",
    "y2 = y[:, 1].reshape((y.shape[0], 1))\n",
    "y3 = y[:, 2].reshape((y.shape[0], 1))\n",
    "print(X.shape)"
   ]
  },
  {
   "cell_type": "code",
   "execution_count": 50,
   "metadata": {},
   "outputs": [
    {
     "name": "stdout",
     "output_type": "stream",
     "text": [
      "fitting\n"
     ]
    },
    {
     "data": {
      "text/plain": [
       "<keras.callbacks.History at 0x1fb02c0d160>"
      ]
     },
     "execution_count": 50,
     "metadata": {},
     "output_type": "execute_result"
    }
   ],
   "source": [
    "\n",
    "# fit model\n",
    "print('fitting')\n",
    "model.fit(X, [y1,y2,y3], epochs=2000, verbose=0)"
   ]
  },
  {
   "cell_type": "code",
   "execution_count": 51,
   "metadata": {},
   "outputs": [],
   "source": [
    "lines2 = loadtxt(\"trial3_revised11.txt\", delimiter=\",\", unpack=False, usecols=(4,7,10,13,16,19,22,25,28,31))"
   ]
  },
  {
   "cell_type": "code",
   "execution_count": 60,
   "metadata": {},
   "outputs": [
    {
     "name": "stdout",
     "output_type": "stream",
     "text": [
      "(1, 7)\n",
      "[array([[-0.31246033]], dtype=float32), array([[-0.40525827]], dtype=float32), array([[-0.29952988]], dtype=float32)]\n",
      "[ 0.151382 -0.02439  -0.064336]\n"
     ]
    }
   ],
   "source": [
    "seq_x2, seq_y2 = lines2[100, :7], lines2[100, 7:]\n",
    "x2=list()\n",
    "x2.append(seq_x2)\n",
    "x2=array(x2)\n",
    "print(x2.shape)\n",
    "\n",
    "yhat = model.predict(x2, verbose=0)\n",
    "print(yhat)\n",
    "print(seq_y2)"
   ]
  }
 ],
 "metadata": {
  "kernelspec": {
   "display_name": "Python 3",
   "language": "python",
   "name": "python3"
  },
  "language_info": {
   "codemirror_mode": {
    "name": "ipython",
    "version": 3
   },
   "file_extension": ".py",
   "mimetype": "text/x-python",
   "name": "python",
   "nbconvert_exporter": "python",
   "pygments_lexer": "ipython3",
   "version": "3.9.0"
  }
 },
 "nbformat": 4,
 "nbformat_minor": 2
}
