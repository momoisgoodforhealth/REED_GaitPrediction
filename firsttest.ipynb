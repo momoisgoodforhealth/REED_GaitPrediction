{
 "cells": [
  {
   "cell_type": "code",
   "execution_count": 1,
   "metadata": {},
   "outputs": [
    {
     "name": "stdout",
     "output_type": "stream",
     "text": [
      "(223357, 10)\n"
     ]
    }
   ],
   "source": [
    "# multivariate output 1d cnn example\n",
    "import os\n",
    "import numpy as np\n",
    "from numpy import array\n",
    "from numpy import hstack\n",
    "from keras.models import Model\n",
    "from keras.layers import Input\n",
    "from keras.layers import Dense\n",
    "from keras.layers import Flatten\n",
    "from sklearn.model_selection import train_test_split\n",
    "from keras.layers.convolutional import Conv1D\n",
    "from keras.layers.convolutional import MaxPooling1D\n",
    "from numpy import loadtxt\n",
    "\n",
    "lines = loadtxt('combined_trial0.txt', delimiter=\",\", unpack=False, usecols=(4,7,10,13,16,19,22,25,28,31))\n",
    "#dataset=lines\n",
    "#for filename in os.scandir('dataset'):\n",
    "#    if filename.is_file():\n",
    "#        print(filename)\n",
    "#        lines=np.append(lines,loadtxt(filename, delimiter=\",\", unpack=False, usecols=(4,7,10,13,16,19,22,25,28,31))) \n",
    "#        dataset = hstack((dataset,loadtxt(filename, delimiter=\",\", unpack=False, usecols=(4,7,10,13,16,19,22,25,28,31))))\n",
    "        #print(lines[0][0])\n",
    "np.random.shuffle(lines)\n",
    "print(lines.shape)\n",
    "#print(dataset.shape)\n",
    "\n",
    "\n"
   ]
  },
  {
   "cell_type": "code",
   "execution_count": 2,
   "metadata": {},
   "outputs": [
    {
     "data": {
      "text/plain": [
       "223357"
      ]
     },
     "execution_count": 2,
     "metadata": {},
     "output_type": "execute_result"
    }
   ],
   "source": [
    "len(lines)"
   ]
  },
  {
   "cell_type": "code",
   "execution_count": 3,
   "metadata": {},
   "outputs": [],
   "source": [
    "# split a multivariate sequence into samples\n",
    "def split_sequences(sequences, n_steps):\n",
    "\tX, y = list(), list()\n",
    "\tprint(len(sequences))\n",
    "\tfor i in range(len(sequences)):\n",
    "\t\tseq_x, seq_y = sequences[i, :7], sequences[i, 7:]\n",
    "\t\tX.append(seq_x)\n",
    "\t\ty.append(seq_y)\n",
    "\treturn array(X), array(y)\n"
   ]
  },
  {
   "cell_type": "code",
   "execution_count": 4,
   "metadata": {},
   "outputs": [],
   "source": [
    "\n",
    "# horizontally stack columns\n",
    "#dataset = hstack((in_seq1, in_seq2, out_seq))\n",
    "#print(dataset)\n",
    "# choose a number of time steps\n",
    "n_steps = 3\n"
   ]
  },
  {
   "cell_type": "code",
   "execution_count": 5,
   "metadata": {},
   "outputs": [
    {
     "name": "stdout",
     "output_type": "stream",
     "text": [
      "223357\n"
     ]
    },
    {
     "name": "stdout",
     "output_type": "stream",
     "text": [
      "(223357, 7)\n",
      "(223357, 3)\n"
     ]
    }
   ],
   "source": [
    "# convert into input/output\n",
    "X, y = split_sequences(lines, n_steps)\n",
    "#X=X[None,:,:]\n",
    "print(X.shape)\n",
    "print(y.shape)"
   ]
  },
  {
   "cell_type": "code",
   "execution_count": 6,
   "metadata": {},
   "outputs": [
    {
     "name": "stdout",
     "output_type": "stream",
     "text": [
      "shape=7\n"
     ]
    }
   ],
   "source": [
    "# the dataset knows the number of features, e.g. 2\n",
    "n_features = X.shape[-1]\n",
    "print('shape='+str(n_features))"
   ]
  },
  {
   "cell_type": "code",
   "execution_count": 7,
   "metadata": {},
   "outputs": [],
   "source": [
    "visible = Input(shape=(7, 1))\n",
    "cnn = Conv1D(filters=64, kernel_size=2, activation='relu')(visible)\n",
    "cnn = MaxPooling1D(pool_size=2)(cnn)\n",
    "cnn = Flatten()(cnn)\n",
    "cnn = Dense(50, activation='relu')(cnn)\n",
    "# define output 1\n",
    "output1 = Dense(1)(cnn)\n",
    "# define output 2\n",
    "output2 = Dense(1)(cnn)\n",
    "# define output 3\n",
    "output3 = Dense(1)(cnn)\n"
   ]
  },
  {
   "cell_type": "code",
   "execution_count": 8,
   "metadata": {},
   "outputs": [
    {
     "name": "stdout",
     "output_type": "stream",
     "text": [
      "Model: \"model\"\n",
      "__________________________________________________________________________________________________\n",
      " Layer (type)                   Output Shape         Param #     Connected to                     \n",
      "==================================================================================================\n",
      " input_1 (InputLayer)           [(None, 7, 1)]       0           []                               \n",
      "                                                                                                  \n",
      " conv1d (Conv1D)                (None, 6, 64)        192         ['input_1[0][0]']                \n",
      "                                                                                                  \n",
      " max_pooling1d (MaxPooling1D)   (None, 3, 64)        0           ['conv1d[0][0]']                 \n",
      "                                                                                                  \n",
      " flatten (Flatten)              (None, 192)          0           ['max_pooling1d[0][0]']          \n",
      "                                                                                                  \n",
      " dense (Dense)                  (None, 50)           9650        ['flatten[0][0]']                \n",
      "                                                                                                  \n",
      " dense_1 (Dense)                (None, 1)            51          ['dense[0][0]']                  \n",
      "                                                                                                  \n",
      " dense_2 (Dense)                (None, 1)            51          ['dense[0][0]']                  \n",
      "                                                                                                  \n",
      " dense_3 (Dense)                (None, 1)            51          ['dense[0][0]']                  \n",
      "                                                                                                  \n",
      "==================================================================================================\n",
      "Total params: 9,995\n",
      "Trainable params: 9,995\n",
      "Non-trainable params: 0\n",
      "__________________________________________________________________________________________________\n",
      "None\n"
     ]
    }
   ],
   "source": [
    "# tie together\n",
    "model = Model(inputs=visible, outputs=[output1, output2, output3])\n",
    "model.compile(optimizer='adam', loss='mse')\n",
    "print(model.summary())\n"
   ]
  },
  {
   "cell_type": "code",
   "execution_count": 9,
   "metadata": {},
   "outputs": [
    {
     "name": "stdout",
     "output_type": "stream",
     "text": [
      "(223357, 3)\n",
      "(223357, 7)\n",
      "(223357, 1)\n"
     ]
    }
   ],
   "source": [
    "\n",
    "print(y.shape)\n",
    "y1 = y[:, 0].reshape((y.shape[0], 1))\n",
    "y2 = y[:, 1].reshape((y.shape[0], 1))\n",
    "y3 = y[:, 2].reshape((y.shape[0], 1))\n",
    "print(X.shape)\n",
    "print(y1.shape)"
   ]
  },
  {
   "cell_type": "code",
   "execution_count": 15,
   "metadata": {},
   "outputs": [
    {
     "name": "stdout",
     "output_type": "stream",
     "text": [
      "fitting\n",
      "(167517, 3)\n",
      "Epoch 1/20\n",
      "27920/27920 [==============================] - 58s 2ms/step - loss: 0.0011 - dense_1_loss: 2.3540e-04 - dense_2_loss: 6.0217e-04 - dense_3_loss: 2.4862e-04\n",
      "Epoch 2/20\n",
      "27920/27920 [==============================] - 51s 2ms/step - loss: 9.5444e-04 - dense_1_loss: 2.0126e-04 - dense_2_loss: 5.2526e-04 - dense_3_loss: 2.2792e-04\n",
      "Epoch 3/20\n",
      "27920/27920 [==============================] - 36s 1ms/step - loss: 8.8819e-04 - dense_1_loss: 1.8747e-04 - dense_2_loss: 4.8250e-04 - dense_3_loss: 2.1821e-04\n",
      "Epoch 4/20\n",
      "27920/27920 [==============================] - 71s 3ms/step - loss: 8.4832e-04 - dense_1_loss: 1.7901e-04 - dense_2_loss: 4.5874e-04 - dense_3_loss: 2.1057e-04\n",
      "Epoch 5/20\n",
      "27920/27920 [==============================] - 82s 3ms/step - loss: 8.1159e-04 - dense_1_loss: 1.6970e-04 - dense_2_loss: 4.3782e-04 - dense_3_loss: 2.0407e-04\n",
      "Epoch 6/20\n",
      "27920/27920 [==============================] - 75s 3ms/step - loss: 7.7946e-04 - dense_1_loss: 1.6238e-04 - dense_2_loss: 4.1865e-04 - dense_3_loss: 1.9844e-04\n",
      "Epoch 7/20\n",
      "27920/27920 [==============================] - 69s 2ms/step - loss: 7.5284e-04 - dense_1_loss: 1.5695e-04 - dense_2_loss: 4.0186e-04 - dense_3_loss: 1.9402e-04\n",
      "Epoch 8/20\n",
      "27920/27920 [==============================] - 72s 3ms/step - loss: 7.3472e-04 - dense_1_loss: 1.5350e-04 - dense_2_loss: 3.8966e-04 - dense_3_loss: 1.9156e-04\n",
      "Epoch 9/20\n",
      "27920/27920 [==============================] - 66s 2ms/step - loss: 7.1601e-04 - dense_1_loss: 1.4726e-04 - dense_2_loss: 3.7979e-04 - dense_3_loss: 1.8896e-04\n",
      "Epoch 10/20\n",
      "27920/27920 [==============================] - 65s 2ms/step - loss: 6.9455e-04 - dense_1_loss: 1.4260e-04 - dense_2_loss: 3.6718e-04 - dense_3_loss: 1.8477e-04\n",
      "Epoch 11/20\n",
      "27920/27920 [==============================] - 64s 2ms/step - loss: 6.8037e-04 - dense_1_loss: 1.3842e-04 - dense_2_loss: 3.5853e-04 - dense_3_loss: 1.8342e-04\n",
      "Epoch 12/20\n",
      "27920/27920 [==============================] - 67s 2ms/step - loss: 6.6865e-04 - dense_1_loss: 1.3681e-04 - dense_2_loss: 3.4970e-04 - dense_3_loss: 1.8214e-04\n",
      "Epoch 13/20\n",
      "27920/27920 [==============================] - 65s 2ms/step - loss: 6.5644e-04 - dense_1_loss: 1.3443e-04 - dense_2_loss: 3.4212e-04 - dense_3_loss: 1.7989e-04\n",
      "Epoch 14/20\n",
      "27920/27920 [==============================] - 71s 3ms/step - loss: 6.4638e-04 - dense_1_loss: 1.3290e-04 - dense_2_loss: 3.3612e-04 - dense_3_loss: 1.7735e-04\n",
      "Epoch 15/20\n",
      "27920/27920 [==============================] - 64s 2ms/step - loss: 6.3461e-04 - dense_1_loss: 1.3037e-04 - dense_2_loss: 3.2849e-04 - dense_3_loss: 1.7576e-04\n",
      "Epoch 16/20\n",
      "27920/27920 [==============================] - 66s 2ms/step - loss: 6.2421e-04 - dense_1_loss: 1.2824e-04 - dense_2_loss: 3.2172e-04 - dense_3_loss: 1.7424e-04\n",
      "Epoch 17/20\n",
      "27920/27920 [==============================] - 67s 2ms/step - loss: 6.2312e-04 - dense_1_loss: 1.2804e-04 - dense_2_loss: 3.2155e-04 - dense_3_loss: 1.7354e-04\n",
      "Epoch 18/20\n",
      "27920/27920 [==============================] - 60s 2ms/step - loss: 6.1563e-04 - dense_1_loss: 1.2677e-04 - dense_2_loss: 3.1630e-04 - dense_3_loss: 1.7256e-04\n",
      "Epoch 19/20\n",
      "27920/27920 [==============================] - 63s 2ms/step - loss: 6.0975e-04 - dense_1_loss: 1.2512e-04 - dense_2_loss: 3.1304e-04 - dense_3_loss: 1.7160e-04\n",
      "Epoch 20/20\n",
      "27920/27920 [==============================] - 66s 2ms/step - loss: 6.0138e-04 - dense_1_loss: 1.2389e-04 - dense_2_loss: 3.0748e-04 - dense_3_loss: 1.7001e-04\n"
     ]
    },
    {
     "data": {
      "text/plain": [
       "<keras.callbacks.History at 0x264e50c8340>"
      ]
     },
     "execution_count": 15,
     "metadata": {},
     "output_type": "execute_result"
    }
   ],
   "source": [
    "X_train, X_test, y_train, y_test = train_test_split(X, y, random_state=0, train_size = .75) # [y1,y2,y3]\n",
    "# fit model\n",
    "print('fitting')\n",
    "print(y_train.shape)\n",
    "ytr1 = y_train[:, 0].reshape((y_train.shape[0], 1))\n",
    "ytr2 = y_train[:, 1].reshape((y_train.shape[0], 1))\n",
    "ytr3 = y_train[:, 2].reshape((y_train.shape[0], 1))\n",
    "yte1 = y_test[:, 0].reshape((y_test.shape[0], 1))\n",
    "yte2 = y_test[:, 1].reshape((y_test.shape[0], 1))\n",
    "yte3 = y_test[:, 2].reshape((y_test.shape[0], 1))\n",
    "\n",
    "model.fit(X_train, [ytr1,ytr2,ytr3], epochs=20,batch_size=6)"
   ]
  },
  {
   "cell_type": "code",
   "execution_count": 11,
   "metadata": {},
   "outputs": [
    {
     "name": "stdout",
     "output_type": "stream",
     "text": [
      "test loss, test acc: [0.0006523958290927112, 0.00011879111843882129, 0.0003588676918298006, 0.00017473743355367333]\n"
     ]
    }
   ],
   "source": [
    "\n",
    "score = model.evaluate(X_test, [yte1,yte2,yte3], verbose = 0) \n",
    "\n",
    "print(\"test loss, test acc:\", score)"
   ]
  },
  {
   "cell_type": "code",
   "execution_count": 12,
   "metadata": {},
   "outputs": [],
   "source": [
    "lines2 = loadtxt(\"trial3_revised11.txt\", delimiter=\",\", unpack=False, usecols=(4,7,10,13,16,19,22,25,28,31))"
   ]
  },
  {
   "cell_type": "code",
   "execution_count": 13,
   "metadata": {},
   "outputs": [
    {
     "name": "stdout",
     "output_type": "stream",
     "text": [
      "(1, 7)\n",
      "[array([[-0.13696317]], dtype=float32), array([[-0.16898528]], dtype=float32), array([[-0.19982865]], dtype=float32)]\n",
      "[ 0.151382 -0.02439  -0.064336]\n"
     ]
    }
   ],
   "source": [
    "seq_x2, seq_y2 = lines2[100, :7], lines2[100, 7:]\n",
    "x2=list()\n",
    "x2.append(seq_x2)\n",
    "x2=array(x2)\n",
    "print(x2.shape)\n",
    "\n",
    "yhat = model.predict(x2, verbose=0)\n",
    "print(yhat)\n",
    "print(seq_y2)"
   ]
  }
 ],
 "metadata": {
  "kernelspec": {
   "display_name": "Python 3",
   "language": "python",
   "name": "python3"
  },
  "language_info": {
   "codemirror_mode": {
    "name": "ipython",
    "version": 3
   },
   "file_extension": ".py",
   "mimetype": "text/x-python",
   "name": "python",
   "nbconvert_exporter": "python",
   "pygments_lexer": "ipython3",
   "version": "3.9.0"
  }
 },
 "nbformat": 4,
 "nbformat_minor": 2
}
